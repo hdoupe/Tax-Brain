{
 "cells": [
  {
   "cell_type": "markdown",
   "id": "patient-inside",
   "metadata": {},
   "source": [
    "Set up environment by running the `cs_local_install.sh` script:\n",
    "\n",
    "```bash\n",
    "$ ./cs_local_install.sh\n",
    "```"
   ]
  },
  {
   "cell_type": "code",
   "execution_count": 1,
   "id": "binary-irrigation",
   "metadata": {},
   "outputs": [
    {
     "name": "stdout",
     "output_type": "stream",
     "text": [
      "Obtaining file:///home/hankdoupe/Tax-Brain/cs-config\n",
      "Installing collected packages: cs-config\n",
      "  Attempting uninstall: cs-config\n",
      "    Found existing installation: cs-config 0.0.0\n",
      "    Uninstalling cs-config-0.0.0:\n",
      "      Successfully uninstalled cs-config-0.0.0\n",
      "  Running setup.py develop for cs-config\n",
      "Successfully installed cs-config\n"
     ]
    }
   ],
   "source": [
    "!pip install -e ./cs-config"
   ]
  },
  {
   "cell_type": "code",
   "execution_count": 2,
   "id": "demonstrated-chuck",
   "metadata": {},
   "outputs": [],
   "source": [
    "from cs_config import functions\n",
    "import cs_kit\n",
    "import paramtools"
   ]
  },
  {
   "cell_type": "code",
   "execution_count": 3,
   "id": "demonstrated-money",
   "metadata": {},
   "outputs": [],
   "source": [
    "policy = paramtools.read_json(\n",
    "    \"cs://PSLmodels:Tax-Brain@50471/inputs/adjustment/policy\"\n",
    ")\n",
    "adj = {\"policy\": policy, \"behavior\": {}}"
   ]
  },
  {
   "cell_type": "code",
   "execution_count": 4,
   "id": "comprehensive-acrobat",
   "metadata": {},
   "outputs": [],
   "source": [
    "meta_parameters = paramtools.read_json(\n",
    "    \"cs://PSLmodels:Tax-Brain@50471/inputs/meta_parameters\"\n",
    ")\n",
    "meta_parameters[\"year\"] = 2020"
   ]
  },
  {
   "cell_type": "code",
   "execution_count": null,
   "id": "wired-gothic",
   "metadata": {},
   "outputs": [
    {
     "name": "stdout",
     "output_type": "stream",
     "text": [
      "Defaulting to the CPS\n",
      "delaying for 2020\n",
      "delaying for 2021\n",
      "delaying for 2022\n",
      "delaying for 2023\n",
      "delaying for 2024\n",
      "delaying for 2025\n",
      "delaying for 2026\n",
      "delaying for 2027\n",
      "delaying for 2028\n",
      "delaying for 2029\n",
      "delaying for 2030\n"
     ]
    }
   ],
   "source": [
    "functions.run_model(meta_parameters, adj)"
   ]
  },
  {
   "cell_type": "code",
   "execution_count": null,
   "id": "subtle-porcelain",
   "metadata": {},
   "outputs": [],
   "source": []
  }
 ],
 "metadata": {
  "kernelspec": {
   "display_name": "Python 3",
   "language": "python",
   "name": "python3"
  },
  "language_info": {
   "codemirror_mode": {
    "name": "ipython",
    "version": 3
   },
   "file_extension": ".py",
   "mimetype": "text/x-python",
   "name": "python",
   "nbconvert_exporter": "python",
   "pygments_lexer": "ipython3",
   "version": "3.9.2"
  }
 },
 "nbformat": 4,
 "nbformat_minor": 5
}
